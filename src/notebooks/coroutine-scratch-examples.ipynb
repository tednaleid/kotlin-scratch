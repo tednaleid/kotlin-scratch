{
 "cells": [
  {
   "cell_type": "code",
   "execution_count": 1,
   "metadata": {
    "collapsed": true,
    "ExecuteTime": {
     "end_time": "2024-03-10T23:04:47.224835Z",
     "start_time": "2024-03-10T23:04:46.977173Z"
    }
   },
   "outputs": [],
   "source": [
    "%use coroutines"
   ]
  },
  {
   "cell_type": "code",
   "outputs": [
    {
     "name": "stdout",
     "output_type": "stream",
     "text": [
      "Received 0\n",
      "Received 2\n",
      "Received 4\n",
      "Received 6\n",
      "Received 8\n",
      "Received 10\n",
      "Received 12\n",
      "Received 14\n",
      "Received 16\n",
      "Received 18\n"
     ]
    }
   ],
   "source": [
    "import kotlinx.coroutines.*\n",
    "import kotlinx.coroutines.channels.Channel\n",
    "import kotlinx.coroutines.channels.ReceiveChannel\n",
    "import kotlinx.coroutines.channels.SendChannel\n",
    "\n",
    "\n",
    "fun CoroutineScope.launchTransformer(input: ReceiveChannel<Int>, output: SendChannel<Int>) = launch {\n",
    "    for (element in input) {\n",
    "        output.send(element * 2)\n",
    "        delay(1000)\n",
    "    }\n",
    "}\n",
    "\n",
    "fun CoroutineScope.launchSink(channel: ReceiveChannel<Int>) = launch {\n",
    "    for (element in channel) {\n",
    "        println(\"Received $element\")\n",
    "        delay(100)\n",
    "    }\n",
    "}\n",
    "\n",
    "fun main() = runBlocking {\n",
    "    val toTransformerChannel = Channel<Int>(100)\n",
    "    val transformerToSinkChannel = Channel<Int>(100)\n",
    "    val transformerJob = launchTransformer(toTransformerChannel, transformerToSinkChannel)\n",
    "    val sinkJob = launchSink(transformerToSinkChannel)\n",
    "    \n",
    "    repeat(10) {\n",
    "        toTransformerChannel.send(it)\n",
    "    }\n",
    "    \n",
    "    toTransformerChannel.close()\n",
    "    transformerJob.join()\n",
    "    \n",
    "    transformerToSinkChannel.close()\n",
    "    sinkJob.join()\n",
    "}\n",
    "\n",
    "main()"
   ],
   "metadata": {
    "collapsed": false,
    "ExecuteTime": {
     "end_time": "2024-03-10T23:17:25.349975Z",
     "start_time": "2024-03-10T23:17:15.167456Z"
    }
   },
   "execution_count": 9
  }
 ],
 "metadata": {
  "kernelspec": {
   "display_name": "Kotlin",
   "language": "kotlin",
   "name": "kotlin"
  },
  "language_info": {
   "name": "kotlin",
   "version": "1.9.0",
   "mimetype": "text/x-kotlin",
   "file_extension": ".kt",
   "pygments_lexer": "kotlin",
   "codemirror_mode": "text/x-kotlin",
   "nbconvert_exporter": ""
  }
 },
 "nbformat": 4,
 "nbformat_minor": 0
}
